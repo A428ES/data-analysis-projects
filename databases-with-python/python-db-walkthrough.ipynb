{
 "cells": [
  {
   "cell_type": "code",
   "execution_count": 1,
   "id": "880e27fd-018c-4277-97d0-19074e40f34f",
   "metadata": {},
   "outputs": [],
   "source": [
    "# Imports \n",
    "import pandas as pd\n",
    "import numpy as np\n",
    "import sqlite3"
   ]
  },
  {
   "cell_type": "code",
   "execution_count": 5,
   "id": "32e77c18-025b-482e-944a-a4a92c698f4e",
   "metadata": {},
   "outputs": [],
   "source": [
    "# connection = sqlite3.connect('data/chapter-examples.db')\n",
    "# cursor = connection.cursor()\n",
    "\n",
    "# print(connection.total_changes)"
   ]
  },
  {
   "cell_type": "code",
   "execution_count": 6,
   "id": "44b211d9-a7d9-4f77-ad42-8b7f8272509f",
   "metadata": {},
   "outputs": [],
   "source": [
    "# Creating a new Database called aquarium.db\n",
    "# new_db = sqlite3.connect('aquarium.db')"
   ]
  },
  {
   "cell_type": "code",
   "execution_count": null,
   "id": "9a87dc0c-a3dc-4603-bca3-e406958cb442",
   "metadata": {},
   "outputs": [],
   "source": [
    "Testing Connection\n",
    "# print(new_db.total_changes)"
   ]
  },
  {
   "cell_type": "code",
   "execution_count": null,
   "id": "cd221691-9d3a-4f34-9611-845a90f7c807",
   "metadata": {},
   "outputs": [],
   "source": [
    "# Create a new cursor object that allows SQL statements to be run against the database\n",
    "# cursor = new_db.cursor()\n",
    "# cursor.execute(\"CREATE TABLE fish (name TEXT, species TEXT, tank_number INTEGER)\")"
   ]
  },
  {
   "cell_type": "code",
   "execution_count": null,
   "id": "c9844d2e-c45b-4b36-bcfb-03bc532c1e03",
   "metadata": {},
   "outputs": [],
   "source": [
    "# cursor.execute(\"INSERT INTO fish VALUES ('John', 'Great White', 1)\")\n",
    "# cursor.execute(\"INSERT INTO fish VALUES ('Mary', 'Killer Whale', 7)\")"
   ]
  },
  {
   "cell_type": "code",
   "execution_count": null,
   "id": "0c87523b-a22b-4714-bca3-f675a4c4fa5a",
   "metadata": {},
   "outputs": [],
   "source": [
    "# cursor.execute(\"SELECT * FROM fish\").fetchall()"
   ]
  },
  {
   "cell_type": "code",
   "execution_count": null,
   "id": "e1549231-57d8-4e79-8322-c1c99cd1e566",
   "metadata": {},
   "outputs": [],
   "source": [
    "# the_fish_we_want = \"Mary\"\n",
    "# cursor.execute(\"SELECT * FROM fish WHERE name = ?\", (the_fish_we_want,),).fetchall()"
   ]
  },
  {
   "cell_type": "code",
   "execution_count": null,
   "id": "3205d6df-c23e-4531-b265-4f9e0a958fc6",
   "metadata": {},
   "outputs": [],
   "source": [
    "# Updating data using the cursor object\n",
    "# new_tank = 7\n",
    "# moved_fish_name = \"John\"\n",
    "# cursor.execute(\"UPDATE fish SET tank_number = ? WHERE name = ?\", (new_tank, moved_fish_name))"
   ]
  },
  {
   "cell_type": "code",
   "execution_count": null,
   "id": "7dd36728-9c25-4e32-ad96-c12b02b051d2",
   "metadata": {},
   "outputs": [],
   "source": [
    "# cursor.execute(\"SELECT * FROM fish\").fetchall()"
   ]
  },
  {
   "cell_type": "code",
   "execution_count": 3,
   "id": "f5ed26b2-ecbe-4362-8d9a-6491a59318ac",
   "metadata": {},
   "outputs": [],
   "source": [
    "##### Working with and creating new database below for MOVIES\n",
    "movies_db = sqlite3.connect('Movies.db')"
   ]
  },
  {
   "cell_type": "code",
   "execution_count": 8,
   "id": "3a7b06ab-d11c-4529-8964-4e4e13e82d09",
   "metadata": {},
   "outputs": [
    {
     "ename": "OperationalError",
     "evalue": "table movies already exists",
     "output_type": "error",
     "traceback": [
      "\u001b[0;31m---------------------------------------------------------------------------\u001b[0m",
      "\u001b[0;31mOperationalError\u001b[0m                          Traceback (most recent call last)",
      "Cell \u001b[0;32mIn[8], line 2\u001b[0m\n\u001b[1;32m      1\u001b[0m cur \u001b[38;5;241m=\u001b[39m movies_db\u001b[38;5;241m.\u001b[39mcursor()\n\u001b[0;32m----> 2\u001b[0m \u001b[43mcur\u001b[49m\u001b[38;5;241;43m.\u001b[39;49m\u001b[43mexecute\u001b[49m\u001b[43m(\u001b[49m\u001b[38;5;124;43m\"\u001b[39;49m\u001b[38;5;124;43mCREATE TABLE movies (title TEXT, genre TEXT, release INTEGER, rt_score INTEGER)\u001b[39;49m\u001b[38;5;124;43m\"\u001b[39;49m\u001b[43m)\u001b[49m\n",
      "\u001b[0;31mOperationalError\u001b[0m: table movies already exists"
     ]
    }
   ],
   "source": [
    "cur = movies_db.cursor()\n",
    "cur.execute(\"CREATE TABLE movies (title TEXT, genre TEXT, release INTEGER, rt_score INTEGER)\")"
   ]
  },
  {
   "cell_type": "code",
   "execution_count": 9,
   "id": "b97c46ab-a368-4d41-914b-3a92a7179b7f",
   "metadata": {},
   "outputs": [
    {
     "data": {
      "text/plain": [
       "[]"
      ]
     },
     "execution_count": 9,
     "metadata": {},
     "output_type": "execute_result"
    }
   ],
   "source": [
    "cur.execute(\"SELECT * FROM movies\").fetchall()"
   ]
  },
  {
   "cell_type": "code",
   "execution_count": null,
   "id": "285b2ce9-4a96-414c-af40-438f40450d45",
   "metadata": {},
   "outputs": [],
   "source": []
  }
 ],
 "metadata": {
  "kernelspec": {
   "display_name": "Python 3 (ipykernel)",
   "language": "python",
   "name": "python3"
  },
  "language_info": {
   "codemirror_mode": {
    "name": "ipython",
    "version": 3
   },
   "file_extension": ".py",
   "mimetype": "text/x-python",
   "name": "python",
   "nbconvert_exporter": "python",
   "pygments_lexer": "ipython3",
   "version": "3.10.12"
  }
 },
 "nbformat": 4,
 "nbformat_minor": 5
}
