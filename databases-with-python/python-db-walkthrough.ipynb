{
 "cells": [
  {
   "cell_type": "code",
   "execution_count": 31,
   "id": "880e27fd-018c-4277-97d0-19074e40f34f",
   "metadata": {},
   "outputs": [],
   "source": [
    "# Imports \n",
    "import pandas as pd\n",
    "import sqlite3"
   ]
  },
  {
   "cell_type": "code",
   "execution_count": 21,
   "id": "f5ed26b2-ecbe-4362-8d9a-6491a59318ac",
   "metadata": {},
   "outputs": [],
   "source": [
    "# Working with and creating new database below for MOVIES\n",
    "movies_db = sqlite3.connect('Movies.db')"
   ]
  },
  {
   "cell_type": "code",
   "execution_count": 24,
   "id": "3a7b06ab-d11c-4529-8964-4e4e13e82d09",
   "metadata": {},
   "outputs": [
    {
     "data": {
      "text/plain": [
       "<sqlite3.Cursor at 0x779394599f40>"
      ]
     },
     "execution_count": 24,
     "metadata": {},
     "output_type": "execute_result"
    }
   ],
   "source": [
    "## Creating cursor object, using cursor object to create new tables and add table data\n",
    "cur = movies_db.cursor()\n",
    "# cur.execute(\"CREATE TABLE movies (title TEXT, genre TEXT, release INTEGER, rt_score INTEGER)\")\n",
    "# cur.execute(\"INSERT INTO movies VALUES ('Insterstellar', 'Science Fiction', 2014, 73)\")\n",
    "# cur.execute(\"INSERT INTO movies VALUES ('Pride and Prejudice', 'Novel', 2005, 87)\")\n",
    "# cur.execute(\"INSERT INTO movies VALUES ('Inception', 'Science Fiction', 2010, 87)\")\n",
    "# cur.execute(\"INSERT INTO movies VALUES ('Barbie', 'Comedy', 2023, 88)\")\n",
    "cur.execute(\"INSERT INTO movies VALUES ('Good Will Hunting', 'Drama', 1996, 97)\")"
   ]
  },
  {
   "cell_type": "code",
   "execution_count": 25,
   "id": "b97c46ab-a368-4d41-914b-3a92a7179b7f",
   "metadata": {},
   "outputs": [
    {
     "data": {
      "text/plain": [
       "[('Insterstellar', 'Science Fiction', 2014, 73),\n",
       " ('Pride and Prejudice', 'Novel', 2005, 87),\n",
       " ('Inception', 'Science Fiction', 2010, 87),\n",
       " ('Barbie', 'Comedy', 2023, 88),\n",
       " ('Good Will Hunting', 'Drama', 1996, 97)]"
      ]
     },
     "execution_count": 25,
     "metadata": {},
     "output_type": "execute_result"
    }
   ],
   "source": [
    "# Read table data\n",
    "cur.execute(\"SELECT * FROM movies\").fetchall()"
   ]
  },
  {
   "cell_type": "code",
   "execution_count": 26,
   "id": "285b2ce9-4a96-414c-af40-438f40450d45",
   "metadata": {},
   "outputs": [
    {
     "data": {
      "text/plain": [
       "<sqlite3.Cursor at 0x779394599f40>"
      ]
     },
     "execution_count": 26,
     "metadata": {},
     "output_type": "execute_result"
    }
   ],
   "source": [
    "# Update table data - There was a typo for the release year of Good Will Hunting, lets update this!\n",
    "update_release_year = 1997\n",
    "movie_to_update = 'Good Will Hunting'\n",
    "cur.execute(\"UPDATE movies SET release = ? WHERE title = ?\", (update_release_year, movie_to_update))"
   ]
  },
  {
   "cell_type": "code",
   "execution_count": 27,
   "id": "e6d0b952-da72-4cfd-a395-7c8e8cdd03ec",
   "metadata": {},
   "outputs": [
    {
     "data": {
      "text/plain": [
       "[('Insterstellar', 'Science Fiction', 2014, 73),\n",
       " ('Pride and Prejudice', 'Novel', 2005, 87),\n",
       " ('Inception', 'Science Fiction', 2010, 87),\n",
       " ('Barbie', 'Comedy', 2023, 88),\n",
       " ('Good Will Hunting', 'Drama', 1997, 97)]"
      ]
     },
     "execution_count": 27,
     "metadata": {},
     "output_type": "execute_result"
    }
   ],
   "source": [
    "# Verify Update\n",
    "cur.execute(\"SELECT * FROM movies\").fetchall()"
   ]
  },
  {
   "cell_type": "code",
   "execution_count": 29,
   "id": "1800d018-b0af-4179-9680-639398170d85",
   "metadata": {},
   "outputs": [
    {
     "data": {
      "text/plain": [
       "<sqlite3.Cursor at 0x779394599f40>"
      ]
     },
     "execution_count": 29,
     "metadata": {},
     "output_type": "execute_result"
    }
   ],
   "source": [
    "# Delete table data\n",
    "movie_to_delete = 'Inception' # Too many sci fi movies!\n",
    "cur.execute(\"DELETE FROM movies WHERE title = ?\", (movie_to_delete,))"
   ]
  },
  {
   "cell_type": "code",
   "execution_count": 30,
   "id": "02fcbe24-3b12-4e50-b918-1ef347eda9ec",
   "metadata": {},
   "outputs": [
    {
     "data": {
      "text/plain": [
       "[('Insterstellar', 'Science Fiction', 2014, 73),\n",
       " ('Pride and Prejudice', 'Novel', 2005, 87),\n",
       " ('Barbie', 'Comedy', 2023, 88),\n",
       " ('Good Will Hunting', 'Drama', 1997, 97)]"
      ]
     },
     "execution_count": 30,
     "metadata": {},
     "output_type": "execute_result"
    }
   ],
   "source": [
    "# Confirm movie deleted!\n",
    "cur.execute(\"SELECT * FROM movies\").fetchall()"
   ]
  }
 ],
 "metadata": {
  "kernelspec": {
   "display_name": "Python 3 (ipykernel)",
   "language": "python",
   "name": "python3"
  },
  "language_info": {
   "codemirror_mode": {
    "name": "ipython",
    "version": 3
   },
   "file_extension": ".py",
   "mimetype": "text/x-python",
   "name": "python",
   "nbconvert_exporter": "python",
   "pygments_lexer": "ipython3",
   "version": "3.10.12"
  }
 },
 "nbformat": 4,
 "nbformat_minor": 5
}
